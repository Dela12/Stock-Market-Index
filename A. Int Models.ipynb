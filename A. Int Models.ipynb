{
 "cells": [
  {
   "cell_type": "code",
   "execution_count": null,
   "id": "a7cd4d1b",
   "metadata": {},
   "outputs": [],
   "source": []
  },
  {
   "cell_type": "markdown",
   "id": "fab40d93",
   "metadata": {},
   "source": [
    "# Load Librabries and Data"
   ]
  },
  {
   "cell_type": "code",
   "execution_count": 1,
   "id": "48e03bd1",
   "metadata": {},
   "outputs": [],
   "source": [
    "#import required packages\n",
    "\n",
    "import yfinance as yf\n",
    "import datetime\n",
    "import numpy as np\n",
    "import pandas as pd\n",
    "\n",
    "from pandas_datareader import data as wb\n",
    "from scipy.stats import norm\n",
    "from tabulate import tabulate\n",
    "from colorama import Fore, Back, Style\n",
    "\n",
    "\n",
    "from sklearn.model_selection import train_test_split\n",
    "from sklearn.linear_model import LinearRegression\n",
    "from sklearn.tree import DecisionTreeRegressor\n",
    "from sklearn.neighbors import KNeighborsRegressor\n",
    "from sklearn.svm import SVR\n",
    "from sklearn.ensemble import GradientBoostingRegressor\n",
    "from sklearn.metrics import mean_squared_error, mean_absolute_error, r2_score\n",
    "\n",
    "\n",
    "\n",
    "import matplotlib.pyplot as plt\n",
    "import seaborn as sns\n",
    "sns.set()\n",
    "# set plotting parameters\n",
    "%matplotlib inline\n",
    "#sns.set_style(\"whitegrid\")\n",
    "plt.rc(\"figure\", figsize=(12, 8))\n",
    "plt.rc(\"savefig\", dpi=90)\n",
    "plt.rc(\"font\", family=\"sans-serif\")\n",
    "plt.rc(\"font\", size=14)"
   ]
  },
  {
   "cell_type": "code",
   "execution_count": 2,
   "id": "5098c505",
   "metadata": {},
   "outputs": [
    {
     "name": "stdout",
     "output_type": "stream",
     "text": [
      "[*********************100%%**********************]  1 of 1 completed\n"
     ]
    },
    {
     "data": {
      "text/html": [
       "<div>\n",
       "<style scoped>\n",
       "    .dataframe tbody tr th:only-of-type {\n",
       "        vertical-align: middle;\n",
       "    }\n",
       "\n",
       "    .dataframe tbody tr th {\n",
       "        vertical-align: top;\n",
       "    }\n",
       "\n",
       "    .dataframe thead th {\n",
       "        text-align: right;\n",
       "    }\n",
       "</style>\n",
       "<table border=\"1\" class=\"dataframe\">\n",
       "  <thead>\n",
       "    <tr style=\"text-align: right;\">\n",
       "      <th></th>\n",
       "      <th>Open</th>\n",
       "      <th>High</th>\n",
       "      <th>Low</th>\n",
       "      <th>Close</th>\n",
       "      <th>Adj Close</th>\n",
       "      <th>Volume</th>\n",
       "    </tr>\n",
       "    <tr>\n",
       "      <th>Date</th>\n",
       "      <th></th>\n",
       "      <th></th>\n",
       "      <th></th>\n",
       "      <th></th>\n",
       "      <th></th>\n",
       "      <th></th>\n",
       "    </tr>\n",
       "  </thead>\n",
       "  <tbody>\n",
       "    <tr>\n",
       "      <th>2017-01-02</th>\n",
       "      <td>87.500000</td>\n",
       "      <td>88.809998</td>\n",
       "      <td>87.099998</td>\n",
       "      <td>88.699997</td>\n",
       "      <td>56.960785</td>\n",
       "      <td>1245318</td>\n",
       "    </tr>\n",
       "    <tr>\n",
       "      <th>2017-01-03</th>\n",
       "      <td>88.879997</td>\n",
       "      <td>88.879997</td>\n",
       "      <td>87.419998</td>\n",
       "      <td>87.699997</td>\n",
       "      <td>56.318604</td>\n",
       "      <td>2806564</td>\n",
       "    </tr>\n",
       "    <tr>\n",
       "      <th>2017-01-04</th>\n",
       "      <td>87.889999</td>\n",
       "      <td>88.150002</td>\n",
       "      <td>87.269997</td>\n",
       "      <td>88.150002</td>\n",
       "      <td>56.607590</td>\n",
       "      <td>1955701</td>\n",
       "    </tr>\n",
       "    <tr>\n",
       "      <th>2017-01-05</th>\n",
       "      <td>87.540001</td>\n",
       "      <td>88.250000</td>\n",
       "      <td>87.389999</td>\n",
       "      <td>87.790001</td>\n",
       "      <td>56.376411</td>\n",
       "      <td>1753933</td>\n",
       "    </tr>\n",
       "    <tr>\n",
       "      <th>2017-01-06</th>\n",
       "      <td>87.500000</td>\n",
       "      <td>87.730003</td>\n",
       "      <td>87.269997</td>\n",
       "      <td>87.519997</td>\n",
       "      <td>56.203014</td>\n",
       "      <td>1518979</td>\n",
       "    </tr>\n",
       "  </tbody>\n",
       "</table>\n",
       "</div>"
      ],
      "text/plain": [
       "                 Open       High        Low      Close  Adj Close   Volume\n",
       "Date                                                                      \n",
       "2017-01-02  87.500000  88.809998  87.099998  88.699997  56.960785  1245318\n",
       "2017-01-03  88.879997  88.879997  87.419998  87.699997  56.318604  2806564\n",
       "2017-01-04  87.889999  88.150002  87.269997  88.150002  56.607590  1955701\n",
       "2017-01-05  87.540001  88.250000  87.389999  87.790001  56.376411  1753933\n",
       "2017-01-06  87.500000  87.730003  87.269997  87.519997  56.203014  1518979"
      ]
     },
     "execution_count": 2,
     "metadata": {},
     "output_type": "execute_result"
    }
   ],
   "source": [
    "# Define the ticker symbol and date range\n",
    "ticker = \"BAS.DE\"\n",
    "start = '2017-01-01'\n",
    "end = '2021-12-31'\n",
    "\n",
    "# Download the historical stock prices\n",
    "data_BASF = yf.download(ticker, start=start, end=end)\n",
    "\n",
    "\n",
    "# Create a new DataFrame\n",
    "df = pd.DataFrame(data_BASF)\n",
    "df.head()"
   ]
  },
  {
   "cell_type": "markdown",
   "id": "f5db95a4",
   "metadata": {},
   "source": [
    "## EDA\n",
    "\n",
    "- plot the features and the target to see the relationship between them."
   ]
  },
  {
   "cell_type": "code",
   "execution_count": 3,
   "id": "eb4ed5e8",
   "metadata": {},
   "outputs": [],
   "source": [
    "# Data Preparation\n",
    "\n",
    "\n",
    "# Assuming df is the loaded DataFrame\n",
    "X = df[['Open', 'High', 'Low', 'Volume']]  # Features\n",
    "y = df['Close']  # Target variable\n",
    "\n",
    "# Split the data into training and testing sets\n",
    "X_train, X_test, y_train, y_test = train_test_split(X, y, test_size=0.2, random_state=42)"
   ]
  },
  {
   "cell_type": "markdown",
   "id": "9a7e35dc",
   "metadata": {},
   "source": [
    "# Build Machine Learning Models"
   ]
  },
  {
   "cell_type": "markdown",
   "id": "38b854b5",
   "metadata": {},
   "source": [
    "## 1. Linear Reg"
   ]
  },
  {
   "cell_type": "code",
   "execution_count": 4,
   "id": "c62bd028",
   "metadata": {},
   "outputs": [
    {
     "data": {
      "text/html": [
       "<div>\n",
       "<style scoped>\n",
       "    .dataframe tbody tr th:only-of-type {\n",
       "        vertical-align: middle;\n",
       "    }\n",
       "\n",
       "    .dataframe tbody tr th {\n",
       "        vertical-align: top;\n",
       "    }\n",
       "\n",
       "    .dataframe thead th {\n",
       "        text-align: right;\n",
       "    }\n",
       "</style>\n",
       "<table border=\"1\" class=\"dataframe\">\n",
       "  <thead>\n",
       "    <tr style=\"text-align: right;\">\n",
       "      <th></th>\n",
       "      <th>Linear Regression</th>\n",
       "    </tr>\n",
       "  </thead>\n",
       "  <tbody>\n",
       "    <tr>\n",
       "      <th>Mean Squared Error</th>\n",
       "      <td>0.140814</td>\n",
       "    </tr>\n",
       "    <tr>\n",
       "      <th>Mean Absolute Error</th>\n",
       "      <td>0.288290</td>\n",
       "    </tr>\n",
       "    <tr>\n",
       "      <th>R-squared (R2)</th>\n",
       "      <td>0.999249</td>\n",
       "    </tr>\n",
       "  </tbody>\n",
       "</table>\n",
       "</div>"
      ],
      "text/plain": [
       "                     Linear Regression\n",
       "Mean Squared Error            0.140814\n",
       "Mean Absolute Error           0.288290\n",
       "R-squared (R2)                0.999249"
      ]
     },
     "execution_count": 4,
     "metadata": {},
     "output_type": "execute_result"
    }
   ],
   "source": [
    "# Linear Regression\n",
    "\n",
    "\n",
    "# Create and train the Linear Regression model\n",
    "lr_model = LinearRegression()\n",
    "lr_model.fit(X_train, y_train)\n",
    "\n",
    "# Make predictions on the test set\n",
    "y_pred_lr = lr_model.predict(X_test)\n",
    "\n",
    "# Evaluate the Linear Regression model\n",
    "mse_lr = mean_squared_error(y_test, y_pred_lr)\n",
    "mae_lr = mean_absolute_error(y_test, y_pred_lr)\n",
    "r2_lr = r2_score(y_test, y_pred_lr)\n",
    "\n",
    "# Evaluate the linear Reg model\n",
    "LR_metrics = pd.DataFrame({\n",
    "    'Mean Squared Error': [mse_lr],\n",
    "    'Mean Absolute Error': [mae_lr],\n",
    "    'R-squared (R2)': [r2_lr]\n",
    "}, index=['Linear Regression']).T\n",
    "\n",
    "# Display the DataFrame\n",
    "LR_metrics"
   ]
  },
  {
   "cell_type": "code",
   "execution_count": 5,
   "id": "ddc413b6",
   "metadata": {},
   "outputs": [
    {
     "data": {
      "text/html": [
       "<div>\n",
       "<style scoped>\n",
       "    .dataframe tbody tr th:only-of-type {\n",
       "        vertical-align: middle;\n",
       "    }\n",
       "\n",
       "    .dataframe tbody tr th {\n",
       "        vertical-align: top;\n",
       "    }\n",
       "\n",
       "    .dataframe thead th {\n",
       "        text-align: right;\n",
       "    }\n",
       "</style>\n",
       "<table border=\"1\" class=\"dataframe\">\n",
       "  <thead>\n",
       "    <tr style=\"text-align: right;\">\n",
       "      <th></th>\n",
       "      <th>Actual</th>\n",
       "      <th>Predicted</th>\n",
       "    </tr>\n",
       "    <tr>\n",
       "      <th>Date</th>\n",
       "      <th></th>\n",
       "      <th></th>\n",
       "    </tr>\n",
       "  </thead>\n",
       "  <tbody>\n",
       "    <tr>\n",
       "      <th>2021-10-13</th>\n",
       "      <td>64.900002</td>\n",
       "      <td>64.572039</td>\n",
       "    </tr>\n",
       "    <tr>\n",
       "      <th>2021-02-10</th>\n",
       "      <td>67.150002</td>\n",
       "      <td>67.097003</td>\n",
       "    </tr>\n",
       "    <tr>\n",
       "      <th>2018-08-28</th>\n",
       "      <td>80.550003</td>\n",
       "      <td>80.780763</td>\n",
       "    </tr>\n",
       "    <tr>\n",
       "      <th>2021-06-07</th>\n",
       "      <td>68.510002</td>\n",
       "      <td>68.922824</td>\n",
       "    </tr>\n",
       "    <tr>\n",
       "      <th>2020-05-12</th>\n",
       "      <td>45.070000</td>\n",
       "      <td>45.402601</td>\n",
       "    </tr>\n",
       "  </tbody>\n",
       "</table>\n",
       "</div>"
      ],
      "text/plain": [
       "               Actual  Predicted\n",
       "Date                            \n",
       "2021-10-13  64.900002  64.572039\n",
       "2021-02-10  67.150002  67.097003\n",
       "2018-08-28  80.550003  80.780763\n",
       "2021-06-07  68.510002  68.922824\n",
       "2020-05-12  45.070000  45.402601"
      ]
     },
     "execution_count": 5,
     "metadata": {},
     "output_type": "execute_result"
    }
   ],
   "source": [
    "df_lr = pd.DataFrame({'Actual': y_test, 'Predicted': y_pred_lr}, index=X_test.index)\n",
    "df_lr.head()"
   ]
  },
  {
   "cell_type": "code",
   "execution_count": 6,
   "id": "738a3311",
   "metadata": {},
   "outputs": [
    {
     "data": {
      "image/png": "[encoded data removed]",
      "text/plain": [
       "<Figure size 864x576 with 1 Axes>"
      ]
     },
     "metadata": {
      "needs_background": "light"
     },
     "output_type": "display_data"
    }
   ],
   "source": [
    "# Linear Regression Plot\n",
    "plt.scatter(y_test, y_pred_lr, color='green', label='Linear Regression Predicted')\n",
    "plt.scatter(y_test, y_test, color='blue', label='Actual')  \n",
    "plt.xlabel('Actual Closing Prices')\n",
    "plt.ylabel('Predicted Closing Prices')\n",
    "plt.title('Actual vs. Predicted Closing Prices (Linear Regression)')\n",
    "plt.legend()\n",
    "plt.show()"
   ]
  },
  {
   "cell_type": "markdown",
   "id": "2a5a1544",
   "metadata": {},
   "source": [
    "### 2. Decision Tree: "
   ]
  },
  {
   "cell_type": "code",
   "execution_count": 7,
   "id": "d97eef8d",
   "metadata": {},
   "outputs": [
    {
     "data": {
      "text/html": [
       "<div>\n",
       "<style scoped>\n",
       "    .dataframe tbody tr th:only-of-type {\n",
       "        vertical-align: middle;\n",
       "    }\n",
       "\n",
       "    .dataframe tbody tr th {\n",
       "        vertical-align: top;\n",
       "    }\n",
       "\n",
       "    .dataframe thead th {\n",
       "        text-align: right;\n",
       "    }\n",
       "</style>\n",
       "<table border=\"1\" class=\"dataframe\">\n",
       "  <thead>\n",
       "    <tr style=\"text-align: right;\">\n",
       "      <th></th>\n",
       "      <th>Decision Tree Metrics</th>\n",
       "    </tr>\n",
       "  </thead>\n",
       "  <tbody>\n",
       "    <tr>\n",
       "      <th>Mean Squared Error</th>\n",
       "      <td>0.414966</td>\n",
       "    </tr>\n",
       "    <tr>\n",
       "      <th>Mean Absolute Error</th>\n",
       "      <td>0.464311</td>\n",
       "    </tr>\n",
       "    <tr>\n",
       "      <th>R-squared (R2)</th>\n",
       "      <td>0.997786</td>\n",
       "    </tr>\n",
       "  </tbody>\n",
       "</table>\n",
       "</div>"
      ],
      "text/plain": [
       "                     Decision Tree Metrics\n",
       "Mean Squared Error                0.414966\n",
       "Mean Absolute Error               0.464311\n",
       "R-squared (R2)                    0.997786"
      ]
     },
     "execution_count": 7,
     "metadata": {},
     "output_type": "execute_result"
    }
   ],
   "source": [
    "# Decision Tree\n",
    "\n",
    "\n",
    "\n",
    "# Create and train the Decision Tree model\n",
    "dt_model = DecisionTreeRegressor(random_state=42)\n",
    "dt_model.fit(X_train, y_train)\n",
    "\n",
    "# Make predictions on the test set\n",
    "y_pred_dt = dt_model.predict(X_test)\n",
    "\n",
    "# Evaluate the Decision Tree model\n",
    "mse_dt = mean_squared_error(y_test, y_pred_dt)\n",
    "mae_dt = mean_absolute_error(y_test, y_pred_dt)\n",
    "r2_dt = r2_score(y_test, y_pred_dt)\n",
    "\n",
    "# Evaluate the Decision Tree model\n",
    "dt_metrics = pd.DataFrame({\n",
    "    'Mean Squared Error': [mse_dt],\n",
    "    'Mean Absolute Error': [mae_dt],\n",
    "    'R-squared (R2)': [r2_dt]\n",
    "}, index=['Decision Tree Metrics']).T\n",
    "\n",
    "# Display the DataFrame\n",
    "dt_metrics"
   ]
  },
  {
   "cell_type": "code",
   "execution_count": 8,
   "id": "3341ec74",
   "metadata": {},
   "outputs": [
    {
     "data": {
      "text/html": [
       "<div>\n",
       "<style scoped>\n",
       "    .dataframe tbody tr th:only-of-type {\n",
       "        vertical-align: middle;\n",
       "    }\n",
       "\n",
       "    .dataframe tbody tr th {\n",
       "        vertical-align: top;\n",
       "    }\n",
       "\n",
       "    .dataframe thead th {\n",
       "        text-align: right;\n",
       "    }\n",
       "</style>\n",
       "<table border=\"1\" class=\"dataframe\">\n",
       "  <thead>\n",
       "    <tr style=\"text-align: right;\">\n",
       "      <th></th>\n",
       "      <th>Actual</th>\n",
       "      <th>Predicted</th>\n",
       "    </tr>\n",
       "    <tr>\n",
       "      <th>Date</th>\n",
       "      <th></th>\n",
       "      <th></th>\n",
       "    </tr>\n",
       "  </thead>\n",
       "  <tbody>\n",
       "    <tr>\n",
       "      <th>2021-10-13</th>\n",
       "      <td>64.900002</td>\n",
       "      <td>64.599998</td>\n",
       "    </tr>\n",
       "    <tr>\n",
       "      <th>2021-02-10</th>\n",
       "      <td>67.150002</td>\n",
       "      <td>67.639999</td>\n",
       "    </tr>\n",
       "    <tr>\n",
       "      <th>2018-08-28</th>\n",
       "      <td>80.550003</td>\n",
       "      <td>80.930000</td>\n",
       "    </tr>\n",
       "    <tr>\n",
       "      <th>2021-06-07</th>\n",
       "      <td>68.510002</td>\n",
       "      <td>68.849998</td>\n",
       "    </tr>\n",
       "    <tr>\n",
       "      <th>2020-05-12</th>\n",
       "      <td>45.070000</td>\n",
       "      <td>45.580002</td>\n",
       "    </tr>\n",
       "  </tbody>\n",
       "</table>\n",
       "</div>"
      ],
      "text/plain": [
       "               Actual  Predicted\n",
       "Date                            \n",
       "2021-10-13  64.900002  64.599998\n",
       "2021-02-10  67.150002  67.639999\n",
       "2018-08-28  80.550003  80.930000\n",
       "2021-06-07  68.510002  68.849998\n",
       "2020-05-12  45.070000  45.580002"
      ]
     },
     "execution_count": 8,
     "metadata": {},
     "output_type": "execute_result"
    }
   ],
   "source": [
    "# DataFrames for Actual and Predicted Values\n",
    "df_dt = pd.DataFrame({'Actual': y_test, 'Predicted': y_pred_dt}, index=X_test.index)\n",
    "df_dt.head()"
   ]
  },
  {
   "cell_type": "code",
   "execution_count": 9,
   "id": "e9624cb5",
   "metadata": {},
   "outputs": [
    {
     "data": {
      "image/png": "[encoded data removed]",
      "text/plain": [
       "<Figure size 864x576 with 1 Axes>"
      ]
     },
     "metadata": {
      "needs_background": "light"
     },
     "output_type": "display_data"
    }
   ],
   "source": [
    "# Decision Tree Plot\n",
    "plt.scatter(y_test, y_pred_dt, color='green', label='Decision Tree Predicted')\n",
    "plt.scatter(y_test, y_test, color='blue', label='Actual')  \n",
    "plt.xlabel('Actual Closing Prices')\n",
    "plt.ylabel('Predicted Closing Prices')\n",
    "plt.title('Actual vs. Predicted Closing Prices (Decision Tree)')\n",
    "plt.legend()\n",
    "plt.show()"
   ]
  },
  {
   "cell_type": "markdown",
   "id": "63c1a9c0",
   "metadata": {},
   "source": [
    "### 3. KNN"
   ]
  },
  {
   "cell_type": "code",
   "execution_count": 10,
   "id": "4359e1a3",
   "metadata": {},
   "outputs": [
    {
     "data": {
      "text/html": [
       "<div>\n",
       "<style scoped>\n",
       "    .dataframe tbody tr th:only-of-type {\n",
       "        vertical-align: middle;\n",
       "    }\n",
       "\n",
       "    .dataframe tbody tr th {\n",
       "        vertical-align: top;\n",
       "    }\n",
       "\n",
       "    .dataframe thead th {\n",
       "        text-align: right;\n",
       "    }\n",
       "</style>\n",
       "<table border=\"1\" class=\"dataframe\">\n",
       "  <thead>\n",
       "    <tr style=\"text-align: right;\">\n",
       "      <th></th>\n",
       "      <th>KNN Metrics</th>\n",
       "    </tr>\n",
       "  </thead>\n",
       "  <tbody>\n",
       "    <tr>\n",
       "      <th>Mean Squared Error</th>\n",
       "      <td>191.160780</td>\n",
       "    </tr>\n",
       "    <tr>\n",
       "      <th>Mean Absolute Error</th>\n",
       "      <td>11.321020</td>\n",
       "    </tr>\n",
       "    <tr>\n",
       "      <th>R-squared (R2)</th>\n",
       "      <td>-0.020025</td>\n",
       "    </tr>\n",
       "  </tbody>\n",
       "</table>\n",
       "</div>"
      ],
      "text/plain": [
       "                     KNN Metrics\n",
       "Mean Squared Error    191.160780\n",
       "Mean Absolute Error    11.321020\n",
       "R-squared (R2)         -0.020025"
      ]
     },
     "execution_count": 10,
     "metadata": {},
     "output_type": "execute_result"
    }
   ],
   "source": [
    "# KNN\n",
    "\n",
    "\n",
    "# Create and train the KNN model\n",
    "knn_model = KNeighborsRegressor(n_neighbors=5)\n",
    "knn_model.fit(X_train, y_train)\n",
    "\n",
    "# Make predictions on the test set\n",
    "y_pred_knn = knn_model.predict(X_test)\n",
    "\n",
    "# Evaluate the KNN model\n",
    "mse_knn = mean_squared_error(y_test, y_pred_knn)\n",
    "mae_knn = mean_absolute_error(y_test, y_pred_knn)\n",
    "r2_knn = r2_score(y_test, y_pred_knn)\n",
    "\n",
    "# Evaluate the Decision Tree model\n",
    "dt_metrics = pd.DataFrame({\n",
    "    'Mean Squared Error': [mse_knn],\n",
    "    'Mean Absolute Error': [mae_knn],\n",
    "    'R-squared (R2)': [r2_knn]\n",
    "}, index=['KNN Metrics']).T\n",
    "\n",
    "# Display the DataFrame\n",
    "dt_metrics"
   ]
  },
  {
   "cell_type": "code",
   "execution_count": 11,
   "id": "572083c3",
   "metadata": {},
   "outputs": [
    {
     "data": {
      "text/html": [
       "<div>\n",
       "<style scoped>\n",
       "    .dataframe tbody tr th:only-of-type {\n",
       "        vertical-align: middle;\n",
       "    }\n",
       "\n",
       "    .dataframe tbody tr th {\n",
       "        vertical-align: top;\n",
       "    }\n",
       "\n",
       "    .dataframe thead th {\n",
       "        text-align: right;\n",
       "    }\n",
       "</style>\n",
       "<table border=\"1\" class=\"dataframe\">\n",
       "  <thead>\n",
       "    <tr style=\"text-align: right;\">\n",
       "      <th></th>\n",
       "      <th>Actual</th>\n",
       "      <th>Predicted</th>\n",
       "    </tr>\n",
       "    <tr>\n",
       "      <th>Date</th>\n",
       "      <th></th>\n",
       "      <th></th>\n",
       "    </tr>\n",
       "  </thead>\n",
       "  <tbody>\n",
       "    <tr>\n",
       "      <th>2021-10-13</th>\n",
       "      <td>64.900002</td>\n",
       "      <td>68.006001</td>\n",
       "    </tr>\n",
       "    <tr>\n",
       "      <th>2021-02-10</th>\n",
       "      <td>67.150002</td>\n",
       "      <td>79.025999</td>\n",
       "    </tr>\n",
       "    <tr>\n",
       "      <th>2018-08-28</th>\n",
       "      <td>80.550003</td>\n",
       "      <td>79.551999</td>\n",
       "    </tr>\n",
       "    <tr>\n",
       "      <th>2021-06-07</th>\n",
       "      <td>68.510002</td>\n",
       "      <td>91.634000</td>\n",
       "    </tr>\n",
       "    <tr>\n",
       "      <th>2020-05-12</th>\n",
       "      <td>45.070000</td>\n",
       "      <td>70.496000</td>\n",
       "    </tr>\n",
       "  </tbody>\n",
       "</table>\n",
       "</div>"
      ],
      "text/plain": [
       "               Actual  Predicted\n",
       "Date                            \n",
       "2021-10-13  64.900002  68.006001\n",
       "2021-02-10  67.150002  79.025999\n",
       "2018-08-28  80.550003  79.551999\n",
       "2021-06-07  68.510002  91.634000\n",
       "2020-05-12  45.070000  70.496000"
      ]
     },
     "execution_count": 11,
     "metadata": {},
     "output_type": "execute_result"
    }
   ],
   "source": [
    "df_knn = pd.DataFrame({'Actual': y_test, 'Predicted': y_pred_knn}, index=X_test.index)\n",
    "df_knn.head()"
   ]
  },
  {
   "cell_type": "code",
   "execution_count": 12,
   "id": "c9b5d65b",
   "metadata": {},
   "outputs": [
    {
     "data": {
      "image/png": "[encoded data removed]",
      "text/plain": [
       "<Figure size 864x576 with 1 Axes>"
      ]
     },
     "metadata": {
      "needs_background": "light"
     },
     "output_type": "display_data"
    }
   ],
   "source": [
    "# KNN Plot\n",
    "plt.scatter(y_test, y_pred_knn, color='green', label='KNN Predicted')\n",
    "plt.scatter(y_test, y_test, color='blue', label='Actual')  \n",
    "plt.xlabel('Actual Closing Prices')\n",
    "plt.ylabel('Predicted Closing Prices')\n",
    "plt.title('Actual vs. Predicted Closing Prices (KNN)')\n",
    "plt.legend()\n",
    "plt.show()"
   ]
  },
  {
   "cell_type": "markdown",
   "id": "07198db6",
   "metadata": {},
   "source": [
    "### 4. SVM:"
   ]
  },
  {
   "cell_type": "code",
   "execution_count": 13,
   "id": "7e67da53",
   "metadata": {},
   "outputs": [
    {
     "data": {
      "text/html": [
       "<div>\n",
       "<style scoped>\n",
       "    .dataframe tbody tr th:only-of-type {\n",
       "        vertical-align: middle;\n",
       "    }\n",
       "\n",
       "    .dataframe tbody tr th {\n",
       "        vertical-align: top;\n",
       "    }\n",
       "\n",
       "    .dataframe thead th {\n",
       "        text-align: right;\n",
       "    }\n",
       "</style>\n",
       "<table border=\"1\" class=\"dataframe\">\n",
       "  <thead>\n",
       "    <tr style=\"text-align: right;\">\n",
       "      <th></th>\n",
       "      <th>SVR with RBF Kernel</th>\n",
       "    </tr>\n",
       "  </thead>\n",
       "  <tbody>\n",
       "    <tr>\n",
       "      <th>Mean Squared Error</th>\n",
       "      <td>167.051920</td>\n",
       "    </tr>\n",
       "    <tr>\n",
       "      <th>Mean Absolute Error</th>\n",
       "      <td>10.611225</td>\n",
       "    </tr>\n",
       "    <tr>\n",
       "      <th>R-squared (R2)</th>\n",
       "      <td>0.108619</td>\n",
       "    </tr>\n",
       "  </tbody>\n",
       "</table>\n",
       "</div>"
      ],
      "text/plain": [
       "                     SVR with RBF Kernel\n",
       "Mean Squared Error            167.051920\n",
       "Mean Absolute Error            10.611225\n",
       "R-squared (R2)                  0.108619"
      ]
     },
     "execution_count": 13,
     "metadata": {},
     "output_type": "execute_result"
    }
   ],
   "source": [
    "# Support Vector Regression with RBF Kernel\n",
    "\n",
    "\n",
    "svr_rbf_model = SVR(kernel='rbf')  # Using RBF kernel\n",
    "svr_rbf_model.fit(X_train, y_train)\n",
    "\n",
    "# Make predictions on the test set\n",
    "y_pred_svr_rbf = svr_rbf_model.predict(X_test)\n",
    "\n",
    "# Evaluate the SVR with RBF Kernel model\n",
    "mse_svr_rbf = mean_squared_error(y_test, y_pred_svr_rbf)\n",
    "mae_svr_rbf = mean_absolute_error(y_test, y_pred_svr_rbf)\n",
    "r2_svr_rbf = r2_score(y_test, y_pred_svr_rbf)\n",
    "\n",
    "# Display the evaluation metrics for SVR with RBF Kernel\n",
    "svr_rbf_metrics = pd.DataFrame({\n",
    "    'Mean Squared Error': [mse_svr_rbf],\n",
    "    'Mean Absolute Error': [mae_svr_rbf],\n",
    "    'R-squared (R2)': [r2_svr_rbf]\n",
    "}, index=['SVR with RBF Kernel']).T\n",
    "\n",
    "svr_rbf_metrics"
   ]
  },
  {
   "cell_type": "code",
   "execution_count": 14,
   "id": "d343a13a",
   "metadata": {},
   "outputs": [
    {
     "data": {
      "text/html": [
       "<div>\n",
       "<style scoped>\n",
       "    .dataframe tbody tr th:only-of-type {\n",
       "        vertical-align: middle;\n",
       "    }\n",
       "\n",
       "    .dataframe tbody tr th {\n",
       "        vertical-align: top;\n",
       "    }\n",
       "\n",
       "    .dataframe thead th {\n",
       "        text-align: right;\n",
       "    }\n",
       "</style>\n",
       "<table border=\"1\" class=\"dataframe\">\n",
       "  <thead>\n",
       "    <tr style=\"text-align: right;\">\n",
       "      <th></th>\n",
       "      <th>Actual</th>\n",
       "      <th>Predicted</th>\n",
       "    </tr>\n",
       "    <tr>\n",
       "      <th>Date</th>\n",
       "      <th></th>\n",
       "      <th></th>\n",
       "    </tr>\n",
       "  </thead>\n",
       "  <tbody>\n",
       "    <tr>\n",
       "      <th>2021-10-13</th>\n",
       "      <td>64.900002</td>\n",
       "      <td>70.948055</td>\n",
       "    </tr>\n",
       "    <tr>\n",
       "      <th>2021-02-10</th>\n",
       "      <td>67.150002</td>\n",
       "      <td>71.676071</td>\n",
       "    </tr>\n",
       "    <tr>\n",
       "      <th>2018-08-28</th>\n",
       "      <td>80.550003</td>\n",
       "      <td>73.400791</td>\n",
       "    </tr>\n",
       "    <tr>\n",
       "      <th>2021-06-07</th>\n",
       "      <td>68.510002</td>\n",
       "      <td>73.802618</td>\n",
       "    </tr>\n",
       "    <tr>\n",
       "      <th>2020-05-12</th>\n",
       "      <td>45.070000</td>\n",
       "      <td>65.871994</td>\n",
       "    </tr>\n",
       "  </tbody>\n",
       "</table>\n",
       "</div>"
      ],
      "text/plain": [
       "               Actual  Predicted\n",
       "Date                            \n",
       "2021-10-13  64.900002  70.948055\n",
       "2021-02-10  67.150002  71.676071\n",
       "2018-08-28  80.550003  73.400791\n",
       "2021-06-07  68.510002  73.802618\n",
       "2020-05-12  45.070000  65.871994"
      ]
     },
     "execution_count": 14,
     "metadata": {},
     "output_type": "execute_result"
    }
   ],
   "source": [
    "df_svr_rbf = pd.DataFrame({'Actual': y_test, 'Predicted': y_pred_svr_rbf}, index=X_test.index)\n",
    "df_svr_rbf.head()"
   ]
  },
  {
   "cell_type": "code",
   "execution_count": 15,
   "id": "55244f46",
   "metadata": {},
   "outputs": [
    {
     "data": {
      "image/png": "[encoded data removed]",
      "text/plain": [
       "<Figure size 864x576 with 1 Axes>"
      ]
     },
     "metadata": {
      "needs_background": "light"
     },
     "output_type": "display_data"
    }
   ],
   "source": [
    "# Support Vector Regression with RBF Kernel Plot\n",
    "plt.scatter(y_test, y_pred_svr_rbf, color='green', label='SVR with RBF Kernel Predicted')\n",
    "plt.scatter(y_test, y_test, color='blue', label='Actual')  \n",
    "plt.xlabel('Actual Closing Prices')\n",
    "plt.ylabel('Predicted Closing Prices')\n",
    "plt.title('Actual vs. Predicted Closing Prices (SVR with RBF Kernel)')\n",
    "plt.legend()\n",
    "plt.show()"
   ]
  },
  {
   "cell_type": "markdown",
   "id": "26208d6b",
   "metadata": {},
   "source": [
    "## 5. Gradient Boosting"
   ]
  },
  {
   "cell_type": "code",
   "execution_count": 16,
   "id": "aecfa376",
   "metadata": {},
   "outputs": [
    {
     "data": {
      "text/html": [
       "<div>\n",
       "<style scoped>\n",
       "    .dataframe tbody tr th:only-of-type {\n",
       "        vertical-align: middle;\n",
       "    }\n",
       "\n",
       "    .dataframe tbody tr th {\n",
       "        vertical-align: top;\n",
       "    }\n",
       "\n",
       "    .dataframe thead th {\n",
       "        text-align: right;\n",
       "    }\n",
       "</style>\n",
       "<table border=\"1\" class=\"dataframe\">\n",
       "  <thead>\n",
       "    <tr style=\"text-align: right;\">\n",
       "      <th></th>\n",
       "      <th>Gradient Boosting</th>\n",
       "    </tr>\n",
       "  </thead>\n",
       "  <tbody>\n",
       "    <tr>\n",
       "      <th>Mean Squared Error</th>\n",
       "      <td>0.275467</td>\n",
       "    </tr>\n",
       "    <tr>\n",
       "      <th>Mean Absolute Error</th>\n",
       "      <td>0.402602</td>\n",
       "    </tr>\n",
       "    <tr>\n",
       "      <th>R-squared (R2)</th>\n",
       "      <td>0.998530</td>\n",
       "    </tr>\n",
       "  </tbody>\n",
       "</table>\n",
       "</div>"
      ],
      "text/plain": [
       "                     Gradient Boosting\n",
       "Mean Squared Error            0.275467\n",
       "Mean Absolute Error           0.402602\n",
       "R-squared (R2)                0.998530"
      ]
     },
     "execution_count": 16,
     "metadata": {},
     "output_type": "execute_result"
    }
   ],
   "source": [
    "# Gradient Boosting\n",
    "\n",
    "\n",
    "# Create and train the Gradient Boosting model\n",
    "gb_model = GradientBoostingRegressor(random_state=42)\n",
    "gb_model.fit(X_train, y_train)\n",
    "\n",
    "# Make predictions on the test set\n",
    "y_pred_gb = gb_model.predict(X_test)\n",
    "\n",
    "# Evaluate the Gradient Boosting model\n",
    "mse_gb = mean_squared_error(y_test, y_pred_gb)\n",
    "mae_gb = mean_absolute_error(y_test, y_pred_gb)\n",
    "r2_gb = r2_score(y_test, y_pred_gb)\n",
    "\n",
    "# Display the evaluation metrics for Gradient Boosting\n",
    "gb_metrics = pd.DataFrame({\n",
    "    'Mean Squared Error': [mse_gb],\n",
    "    'Mean Absolute Error': [mae_gb],\n",
    "    'R-squared (R2)': [r2_gb]\n",
    "}, index=['Gradient Boosting']).T\n",
    "\n",
    "gb_metrics"
   ]
  },
  {
   "cell_type": "code",
   "execution_count": 17,
   "id": "658e2df4",
   "metadata": {},
   "outputs": [
    {
     "data": {
      "text/html": [
       "<div>\n",
       "<style scoped>\n",
       "    .dataframe tbody tr th:only-of-type {\n",
       "        vertical-align: middle;\n",
       "    }\n",
       "\n",
       "    .dataframe tbody tr th {\n",
       "        vertical-align: top;\n",
       "    }\n",
       "\n",
       "    .dataframe thead th {\n",
       "        text-align: right;\n",
       "    }\n",
       "</style>\n",
       "<table border=\"1\" class=\"dataframe\">\n",
       "  <thead>\n",
       "    <tr style=\"text-align: right;\">\n",
       "      <th></th>\n",
       "      <th>Actual</th>\n",
       "      <th>Predicted</th>\n",
       "    </tr>\n",
       "    <tr>\n",
       "      <th>Date</th>\n",
       "      <th></th>\n",
       "      <th></th>\n",
       "    </tr>\n",
       "  </thead>\n",
       "  <tbody>\n",
       "    <tr>\n",
       "      <th>2021-10-13</th>\n",
       "      <td>64.900002</td>\n",
       "      <td>64.524487</td>\n",
       "    </tr>\n",
       "    <tr>\n",
       "      <th>2021-02-10</th>\n",
       "      <td>67.150002</td>\n",
       "      <td>67.301996</td>\n",
       "    </tr>\n",
       "    <tr>\n",
       "      <th>2018-08-28</th>\n",
       "      <td>80.550003</td>\n",
       "      <td>80.892181</td>\n",
       "    </tr>\n",
       "    <tr>\n",
       "      <th>2021-06-07</th>\n",
       "      <td>68.510002</td>\n",
       "      <td>68.998039</td>\n",
       "    </tr>\n",
       "    <tr>\n",
       "      <th>2020-05-12</th>\n",
       "      <td>45.070000</td>\n",
       "      <td>45.473107</td>\n",
       "    </tr>\n",
       "  </tbody>\n",
       "</table>\n",
       "</div>"
      ],
      "text/plain": [
       "               Actual  Predicted\n",
       "Date                            \n",
       "2021-10-13  64.900002  64.524487\n",
       "2021-02-10  67.150002  67.301996\n",
       "2018-08-28  80.550003  80.892181\n",
       "2021-06-07  68.510002  68.998039\n",
       "2020-05-12  45.070000  45.473107"
      ]
     },
     "execution_count": 17,
     "metadata": {},
     "output_type": "execute_result"
    }
   ],
   "source": [
    "df_gb = pd.DataFrame({'Actual': y_test, 'Predicted': y_pred_gb}, index=X_test.index)\n",
    "df_gb.head()"
   ]
  },
  {
   "cell_type": "code",
   "execution_count": 18,
   "id": "444739d9",
   "metadata": {},
   "outputs": [
    {
     "data": {
      "image/png": "[encoded data removed]",
      "text/plain": [
       "<Figure size 864x576 with 1 Axes>"
      ]
     },
     "metadata": {
      "needs_background": "light"
     },
     "output_type": "display_data"
    }
   ],
   "source": [
    "# Gradient Boosting Plot\n",
    "plt.scatter(y_test, y_pred_gb, color='green', label='Gradient Boosting Predicted')\n",
    "plt.scatter(y_test, y_test, color='blue', label='Actual')  \n",
    "plt.xlabel('Actual Closing Prices')\n",
    "plt.ylabel('Predicted Closing Prices')\n",
    "plt.title('Actual vs. Predicted Closing Prices (Gradient Boosting)')\n",
    "plt.legend()\n",
    "plt.show()"
   ]
  },
  {
   "cell_type": "markdown",
   "id": "36814287",
   "metadata": {},
   "source": [
    "### Compare The Models"
   ]
  },
  {
   "cell_type": "code",
   "execution_count": 19,
   "id": "1dd35592",
   "metadata": {},
   "outputs": [
    {
     "data": {
      "text/html": [
       "<div>\n",
       "<style scoped>\n",
       "    .dataframe tbody tr th:only-of-type {\n",
       "        vertical-align: middle;\n",
       "    }\n",
       "\n",
       "    .dataframe tbody tr th {\n",
       "        vertical-align: top;\n",
       "    }\n",
       "\n",
       "    .dataframe thead th {\n",
       "        text-align: right;\n",
       "    }\n",
       "</style>\n",
       "<table border=\"1\" class=\"dataframe\">\n",
       "  <thead>\n",
       "    <tr style=\"text-align: right;\">\n",
       "      <th></th>\n",
       "      <th>Mean Squared Error</th>\n",
       "      <th>Mean Absolute Error</th>\n",
       "      <th>R-squared (R2)</th>\n",
       "    </tr>\n",
       "    <tr>\n",
       "      <th>Model</th>\n",
       "      <th></th>\n",
       "      <th></th>\n",
       "      <th></th>\n",
       "    </tr>\n",
       "  </thead>\n",
       "  <tbody>\n",
       "    <tr>\n",
       "      <th>Decision Tree</th>\n",
       "      <td>0.414966</td>\n",
       "      <td>0.464311</td>\n",
       "      <td>0.997786</td>\n",
       "    </tr>\n",
       "    <tr>\n",
       "      <th>KNN</th>\n",
       "      <td>191.160780</td>\n",
       "      <td>11.321020</td>\n",
       "      <td>-0.020025</td>\n",
       "    </tr>\n",
       "    <tr>\n",
       "      <th>SVR</th>\n",
       "      <td>167.051920</td>\n",
       "      <td>10.611225</td>\n",
       "      <td>0.108619</td>\n",
       "    </tr>\n",
       "    <tr>\n",
       "      <th>Linear Regression</th>\n",
       "      <td>0.140814</td>\n",
       "      <td>0.288290</td>\n",
       "      <td>0.999249</td>\n",
       "    </tr>\n",
       "    <tr>\n",
       "      <th>Gradient Boosting</th>\n",
       "      <td>0.275467</td>\n",
       "      <td>0.402602</td>\n",
       "      <td>0.998530</td>\n",
       "    </tr>\n",
       "  </tbody>\n",
       "</table>\n",
       "</div>"
      ],
      "text/plain": [
       "                   Mean Squared Error  Mean Absolute Error  R-squared (R2)\n",
       "Model                                                                     \n",
       "Decision Tree                0.414966             0.464311        0.997786\n",
       "KNN                        191.160780            11.321020       -0.020025\n",
       "SVR                        167.051920            10.611225        0.108619\n",
       "Linear Regression            0.140814             0.288290        0.999249\n",
       "Gradient Boosting            0.275467             0.402602        0.998530"
      ]
     },
     "execution_count": 19,
     "metadata": {},
     "output_type": "execute_result"
    }
   ],
   "source": [
    "# Create a DataFrame for model comparison\n",
    "model_comparison = pd.DataFrame({\n",
    "    'Model': ['Decision Tree', 'KNN', 'SVR', 'Linear Regression', 'Gradient Boosting'],\n",
    "    'Mean Squared Error': [mse_dt, mse_knn, mse_svr_rbf, mse_lr, mse_gb],\n",
    "    'Mean Absolute Error': [mae_dt, mae_knn, mae_svr_rbf, mae_lr, mae_gb],\n",
    "    'R-squared (R2)': [r2_dt, r2_knn, r2_svr_rbf, r2_lr, r2_gb]\n",
    "}).set_index('Model')\n",
    "\n",
    "# Display the DataFrame\n",
    "model_comparison"
   ]
  },
  {
   "cell_type": "code",
   "execution_count": 20,
   "id": "f2b6adf7",
   "metadata": {},
   "outputs": [
    {
     "data": {
      "image/png": "[encoded data removed]",
      "text/plain": [
       "<Figure size 1080x360 with 3 Axes>"
      ]
     },
     "metadata": {},
     "output_type": "display_data"
    }
   ],
   "source": [
    "#import matplotlib.pyplot as plt\n",
    "\n",
    "# Set the style for the plots\n",
    "plt.style.use('ggplot')\n",
    "\n",
    "# Create subplots for Mean Squared Error, Mean Absolute Error, and R-squared\n",
    "fig, axes = plt.subplots(nrows=1, ncols=3, figsize=(15, 5))\n",
    "\n",
    "# Bar plot for Mean Squared Error\n",
    "model_comparison['Mean Squared Error'].plot(kind='bar', ax=axes[0], color='skyblue')\n",
    "axes[0].set_title('Mean Squared Error')\n",
    "axes[0].set_ylabel('MSE')\n",
    "\n",
    "# Bar plot for Mean Absolute Error\n",
    "model_comparison['Mean Absolute Error'].plot(kind='bar', ax=axes[1], color='lightcoral')\n",
    "axes[1].set_title('Mean Absolute Error')\n",
    "axes[1].set_ylabel('MAE')\n",
    "\n",
    "# Bar plot for R-squared\n",
    "model_comparison['R-squared (R2)'].plot(kind='bar', ax=axes[2], color='lightgreen')\n",
    "axes[2].set_title('R-squared (R2)')\n",
    "axes[2].set_ylabel('R2')\n",
    "\n",
    "# Adjust layout to prevent overlap\n",
    "plt.tight_layout()\n",
    "\n",
    "# Show the plots\n",
    "plt.show()"
   ]
  },
  {
   "cell_type": "markdown",
   "id": "4dbc370c",
   "metadata": {},
   "source": [
    "# Black Scholes Model"
   ]
  },
  {
   "cell_type": "code",
   "execution_count": 21,
   "id": "104c6584",
   "metadata": {},
   "outputs": [
    {
     "name": "stdout",
     "output_type": "stream",
     "text": [
      "\u001b[94m|\u001b[0m Option Type   \u001b[94m|\u001b[0m   Actual Price \u001b[94m|\u001b[0m   Predicted Price \u001b[94m|\u001b[0m\n",
      "\u001b[94m|\u001b[0m:--------------\u001b[94m|\u001b[0m---------------:\u001b[94m|\u001b[0m------------------:\u001b[94m|\u001b[0m\n",
      "\u001b[94m|\u001b[0m Call          \u001b[94m|\u001b[0m        94.21   \u001b[94m|\u001b[0m           93.7375 \u001b[94m|\u001b[0m\n",
      "\u001b[94m|\u001b[0m Put           \u001b[94m|\u001b[0m        46.8149 \u001b[94m|\u001b[0m           46.8149 \u001b[94m|\u001b[0m\n"
     ]
    }
   ],
   "source": [
    "# Assuming 'actual_stock_prices' is your actual stock prices\n",
    "# Replace it with the actual stock prices corresponding to your test set\n",
    "actual_stock_prices = y_test  # Assuming y_test contains the actual stock prices\n",
    "\n",
    "# BSM Functions\n",
    "def d1(S, X, r, stdev, T):\n",
    "    return (np.log(S / X) + (r + stdev ** 2 / 2) * T) / (stdev * np.sqrt(T))\n",
    " \n",
    "def d2(S, X, r, stdev, T):\n",
    "    return (np.log(S / X) + (r - stdev ** 2 / 2) * T) / (stdev * np.sqrt(T))\n",
    "\n",
    "def BSM_call(S, X, r, stdev, T):\n",
    "    return (S * norm.cdf(d1(S, X, r, stdev, T))) - (X * np.exp(-r * T) * norm.cdf(d2(S, X, r, stdev, T)))\n",
    "\n",
    "def BSM_put(S, X, r, stdev, T):\n",
    "    return ((X * np.exp(-r * T) * norm.cdf(-d2(S, X, r, stdev, T))) - S * norm.cdf(-d1(S, X, r, stdev, T)))\n",
    "\n",
    "# Use the last actual stock price as the current price\n",
    "S_actual = actual_stock_prices[-1]\n",
    "\n",
    "# Calculate the standard deviation for the actual stock returns\n",
    "stdev_actual = np.std(actual_stock_prices) * 250 ** 0.5\n",
    "\n",
    "# Set other Black-Scholes Model parameters\n",
    "r = 0.025\n",
    "X_option = 48\n",
    "T_option = 1\n",
    "\n",
    "# Calculate d1 and d2 for option pricing\n",
    "d1_option_actual = d1(S_actual, X_option, r, stdev_actual, T_option)\n",
    "d2_option_actual = d2(S_actual, X_option, r, stdev_actual, T_option)\n",
    "\n",
    "# Estimate call and put option prices using BSM for actual values\n",
    "call_option_price_actual = BSM_call(S_actual, X_option, r, stdev_actual, T_option)\n",
    "put_option_price_actual = BSM_put(S_actual, X_option, r, stdev_actual, T_option)\n",
    "\n",
    "# Now, let's repeat the process for the predicted values\n",
    "# Use the last predicted stock price as the current price\n",
    "S_pred = df_lr['Predicted'].iloc[-1]\n",
    "\n",
    "# Calculate the standard deviation for the predicted stock returns\n",
    "stdev_pred = np.std(df_lr['Predicted']) * 250 ** 0.5\n",
    "\n",
    "# Calculate d1 and d2 for option pricing for predicted values\n",
    "d1_option_pred = d1(S_pred, X_option, r, stdev_pred, T_option)\n",
    "d2_option_pred = d2(S_pred, X_option, r, stdev_pred, T_option)\n",
    "\n",
    "# Estimate call and put option prices using BSM for predicted values\n",
    "call_option_price_pred = BSM_call(S_pred, X_option, r, stdev_pred, T_option)\n",
    "put_option_price_pred = BSM_put(S_pred, X_option, r, stdev_pred, T_option)\n",
    "\n",
    "# Create a dataframe with the results\n",
    "results_df = pd.DataFrame({\n",
    "    'Option Type': ['Call', 'Put'],\n",
    "    'Actual Price': [call_option_price_actual, put_option_price_actual],\n",
    "    'Predicted Price': [call_option_price_pred, put_option_price_pred]\n",
    "})\n",
    "\n",
    "# Display the results in tabular format\n",
    "table = tabulate(results_df, headers='keys', tablefmt='pipe', showindex=False)\n",
    "\n",
    "# Adding ANSI escape codes for blue pipes\n",
    "table = table.replace('|', '\\033[94m|\\033[0m')\n",
    "\n",
    "print(table)"
   ]
  },
  {
   "cell_type": "markdown",
   "id": "2a568dfe",
   "metadata": {},
   "source": [
    "## VAR"
   ]
  },
  {
   "cell_type": "code",
   "execution_count": 22,
   "id": "facfbdc7",
   "metadata": {},
   "outputs": [
    {
     "name": "stdout",
     "output_type": "stream",
     "text": [
      "VaR Results:\n",
      "\u001b[94m|\u001b[0m Option Type   \u001b[94m|\u001b[0m     VaR \u001b[94m|\u001b[0m\n",
      "\u001b[94m|\u001b[0m:--------------\u001b[94m|\u001b[0m--------:\u001b[94m|\u001b[0m\n",
      "\u001b[94m|\u001b[0m Actual        \u001b[94m|\u001b[0m 146.191 \u001b[94m|\u001b[0m\n",
      "\u001b[94m|\u001b[0m Predicted     \u001b[94m|\u001b[0m 145.553 \u001b[94m|\u001b[0m\n"
     ]
    }
   ],
   "source": [
    "# Assuming 'actual_stock_prices' and 'predicted_stock_prices' are available\n",
    "# Modify the variable names if needed\n",
    "\n",
    "# Function to calculate VaR for a given confidence level\n",
    "def calculate_var(stock_prices, confidence_level=0.95):\n",
    "    returns = np.diff(stock_prices) / stock_prices[:-1]  # Calculate daily returns\n",
    "    log_returns = np.log(1 + returns)\n",
    "    \n",
    "    # Calculate mean and standard deviation of returns\n",
    "    mean_return = np.mean(log_returns)\n",
    "    std_dev_return = np.std(log_returns)\n",
    "    \n",
    "    # Calculate VaR using the inverse of the cumulative distribution function (CDF)\n",
    "    z_score = norm.ppf(1 - confidence_level)\n",
    "    var_value = stock_prices[-1] * np.exp(mean_return - std_dev_return * z_score)\n",
    "    \n",
    "    return var_value\n",
    "\n",
    "# Calculate VaR for actual stock prices\n",
    "var_actual = calculate_var(actual_stock_prices)\n",
    "\n",
    "# Display VaR value for actual stock prices\n",
    "#print(f\"VaR for Actual Stock Prices: {var_actual}\")\n",
    "\n",
    "# Now, let's repeat the process for predicted stock prices\n",
    "var_predicted = calculate_var(df_lr['Predicted'])\n",
    "\n",
    "# Display VaR value for predicted stock prices\n",
    "#print(f\"VaR for Predicted Stock Prices: {var_predicted}\")\n",
    "\n",
    "# Create a dataframe for VaR results\n",
    "var_results_df = pd.DataFrame({\n",
    "    'Option Type': ['Actual', 'Predicted'],\n",
    "    'VaR': [var_actual, var_predicted]\n",
    "})\n",
    "\n",
    "# Display the VaR results in tabular format\n",
    "var_table = tabulate(var_results_df, headers='keys', tablefmt='pipe', showindex=False)\n",
    "\n",
    "# Adding ANSI escape codes for blue pipes\n",
    "var_table = var_table.replace('|', '\\033[94m|\\033[0m')\n",
    "\n",
    "print(\"VaR Results:\")\n",
    "print(var_table)"
   ]
  },
  {
   "cell_type": "code",
   "execution_count": null,
   "id": "c99709c2",
   "metadata": {},
   "outputs": [],
   "source": []
  },
  {
   "cell_type": "markdown",
   "id": "f33085ca",
   "metadata": {},
   "source": [
    "# Probability of Default"
   ]
  },
  {
   "cell_type": "code",
   "execution_count": 23,
   "id": "a0ce2422",
   "metadata": {},
   "outputs": [
    {
     "name": "stdout",
     "output_type": "stream",
     "text": [
      "\n",
      "PD Results:\n",
      "\u001b[94m|\u001b[0m Option Type   \u001b[94m|\u001b[0m   PD \u001b[94m|\u001b[0m\n",
      "\u001b[94m|\u001b[0m:--------------\u001b[94m|\u001b[0m-----:\u001b[94m|\u001b[0m\n",
      "\u001b[94m|\u001b[0m Actual        \u001b[94m|\u001b[0m    1 \u001b[94m|\u001b[0m\n",
      "\u001b[94m|\u001b[0m Predicted     \u001b[94m|\u001b[0m    1 \u001b[94m|\u001b[0m\n"
     ]
    }
   ],
   "source": [
    "# Assuming 'actual_stock_prices' and 'predicted_stock_prices' are available\n",
    "# Modify the variable names if needed\n",
    "\n",
    "# Function to calculate Probability of Default (PD) based on stock prices\n",
    "def calculate_pd(stock_prices, threshold=0.8):\n",
    "    returns = np.diff(stock_prices) / stock_prices[:-1]  # Calculate daily returns\n",
    "    log_returns = np.log(1 + returns)\n",
    "    \n",
    "    # Assuming a simple threshold-based approach\n",
    "    default_events = np.sum(log_returns < threshold)\n",
    "    total_events = len(log_returns)\n",
    "    \n",
    "    # Calculate Probability of Default (PD)\n",
    "    pd_value = default_events / total_events\n",
    "    \n",
    "    return pd_value\n",
    "\n",
    "# Calculate PD for actual stock prices\n",
    "pd_actual = calculate_pd(actual_stock_prices)\n",
    "\n",
    "# Display PD value for actual stock prices\n",
    "#print(f\"Probability of Default (PD) for Actual Stock Prices: {pd_actual}\")\n",
    "\n",
    "# Now, let's repeat the process for predicted stock prices\n",
    "pd_predicted = calculate_pd(df_lr['Predicted'])\n",
    "\n",
    "# Display PD value for predicted stock prices\n",
    "#print(f\"Probability of Default (PD) for Predicted Stock Prices: {pd_predicted}\")\n",
    "\n",
    "# Create a dataframe for PD results\n",
    "pd_results_df = pd.DataFrame({\n",
    "    'Option Type': ['Actual', 'Predicted'],\n",
    "    'PD': [pd_actual, pd_predicted]\n",
    "})\n",
    "\n",
    "# Display the PD results in tabular format\n",
    "pd_table = tabulate(pd_results_df, headers='keys', tablefmt='pipe', showindex=False)\n",
    "\n",
    "# Adding ANSI escape codes for blue pipes\n",
    "pd_table = pd_table.replace('|', '\\033[94m|\\033[0m')\n",
    "\n",
    "print(\"\\nPD Results:\")\n",
    "print(pd_table)"
   ]
  },
  {
   "cell_type": "code",
   "execution_count": null,
   "id": "1a74dd64",
   "metadata": {},
   "outputs": [],
   "source": []
  }
 ],
 "metadata": {
  "kernelspec": {
   "display_name": "Python 3 (ipykernel)",
   "language": "python",
   "name": "python3"
  },
  "language_info": {
   "codemirror_mode": {
    "name": "ipython",
    "version": 3
   },
   "file_extension": ".py",
   "mimetype": "text/x-python",
   "name": "python",
   "nbconvert_exporter": "python",
   "pygments_lexer": "ipython3",
   "version": "3.9.12"
  }
 },
 "nbformat": 4,
 "nbformat_minor": 5
}
